{
 "cells": [
  {
   "cell_type": "markdown",
   "metadata": {},
   "source": [
    "# Landmark Recognition with Deep Belief Networks\n",
    "-------------------------------------\n",
    "\n",
    "<div style=\"text-align: right\">Alfonso Irarrazaval · Gregory Schuit</div>\n",
    "<div style=\"text-align: right\">IIC3695 - Tópicos Avanzados de Inteligencia de Máquina</div>\n",
    "<div style=\"text-align: right\">Proyecto Semestral</div>\n",
    "<div style=\"text-align: right\">2019´1</div>\n"
   ]
  },
  {
   "cell_type": "markdown",
   "metadata": {},
   "source": [
    "## 1. Introducción\n",
    "\n",
    "+ contexto problema\n",
    "+ por que es de interes el tema\n",
    "+ resumen de lo que vamos a hacer en el informe"
   ]
  },
  {
   "cell_type": "code",
   "execution_count": 4,
   "metadata": {
    "collapsed": true
   },
   "outputs": [],
   "source": [
    "import pandas as pd\n",
    "import numpy as np\n",
    "from matplotlib import pyplot as plt"
   ]
  },
  {
   "cell_type": "markdown",
   "metadata": {},
   "source": [
    "## 2. Teoría\n",
    "### 2.1. Modelos Gráficos Probabilísticos\n",
    "#### 2.1.1 Grafos dirigidos"
   ]
  },
  {
   "attachments": {},
   "cell_type": "markdown",
   "metadata": {},
   "source": [
    "<div style=\"text-align: justify\">\n",
    "&nbsp;&nbsp;&nbsp;&nbsp;Bajo el contexto de la teoría de probabilidades, existe un campo de estudio dedicado a representar dependencias entre eventos mediante grafos. Uno de los principales objetivos por los que nacen estos modelos gráficos es poder factorizar una distribución conjunta mediante probabilidades condicionales. Por ejemplo, la siguiente ecuación factoriza la probabilidad conjunta según el gráfico de la figura.\n",
    "</div>\n",
    "\n",
    "![image.png](img/bayesian_network.PNG)\n",
    "\n",
    "<div style=\"text-align: center\">$P(a, b, c) = P(a)P(b | a)P(c | a,b)  $ </div>\n"
   ]
  },
  {
   "attachments": {},
   "cell_type": "markdown",
   "metadata": {},
   "source": [
    "<div style=\"text-align: justify\">\n",
    "&nbsp;&nbsp;&nbsp;&nbsp;En general, la factorización guiada por una red de bayes se da según la siguiente fórmula:\n",
    "</div>\n",
    "<br>   \n",
    "<div style=\"text-align: center\">$P(x) = \\prod_{k=1}^{K} P(x_{k}|pa_{k})$, </div>\n",
    "<br>\n",
    "<div style=\"text-align: justify\">\n",
    "donde $pa_{k}$ es el conjunto de todos los eventos que apuntan a $x_k$. Es importante notar que este tipo de grafos no puede poseer ciclos.\n",
    "</div>\n",
    "<br>  \n",
    "<div style=\"text-align: justify\">\n",
    "&nbsp;&nbsp;&nbsp;&nbsp;Este tipo de factorización resulta muy útil al momento de generar muestras de una distribución compleja de varias variables. En el ejemplo anterior, el proceso para generar muestras de la conjunta es el siguiente: primero se genera una muestra de $a$ según su propia distribución, luego, dada la muestra de $a$, podemos generar una muestra de $b$ de manera directa, y finalmente, dada las muestras de $a$ y de $b$, condicionamos a $c$ y extraemos una muestra. El resultado final de la muestra son los tres valores extraídos en el proceso. A este proceso se le denomina _ancestral sampling_.\n",
    "</div>\n",
    "<br>            \n",
    "         \n",
    "          \n",
    "<div style=\"text-align: justify\">\n",
    "&nbsp;&nbsp;&nbsp;&nbsp;En el contexto de modelos de inferencia, estos grafos pueden simplicar mucho el cómputo de predicciones, incluyendo nodos para parámetros, priors, hiperparámetros, etc. Un ejemplo rápido es la regresión lineal bayesiana que se muestra a continuación. Para más detalle, ver (Bishop, 2006).\n",
    "</div>\n",
    "\n",
    "<img src=\"img/regresion_bayes_network.PNG\" width=\"250\">\n",
    "\n",
    "<br>                 \n",
    "<div style=\"text-align: justify\">\n",
    "&nbsp;&nbsp;&nbsp;&nbsp;En el contexto de modelos de inferencia, estos grafos pueden simplicar mucho el cómputo de predicciones, incluyendo nodos para parámetros, priors, hiperparámetros, etc. Un ejemplo rápido es la regresión lineal bayesiana que se muestra a continuación. Para más detalle, ver (Bishop, 2006).\n",
    "</div>"
   ]
  },
  {
   "cell_type": "code",
   "execution_count": null,
   "metadata": {
    "collapsed": true
   },
   "outputs": [],
   "source": []
  },
  {
   "cell_type": "markdown",
   "metadata": {},
   "source": [
    "### 2.2. Boltzmann Machines"
   ]
  },
  {
   "cell_type": "markdown",
   "metadata": {},
   "source": [
    "### 2.3 Deep Belief Networks (DBN's)\n",
    "+ introducción a las DBN's"
   ]
  },
  {
   "cell_type": "markdown",
   "metadata": {},
   "source": [
    "### 2.3 Image Recognition with DBN's"
   ]
  },
  {
   "cell_type": "markdown",
   "metadata": {},
   "source": [
    "## 3. Problema\n",
    "+ introducción al problema"
   ]
  },
  {
   "cell_type": "markdown",
   "metadata": {},
   "source": [
    "### 3.1 Descripción de datos"
   ]
  },
  {
   "cell_type": "markdown",
   "metadata": {},
   "source": [
    "### 3.2 Approach propuesto (?)"
   ]
  },
  {
   "cell_type": "markdown",
   "metadata": {},
   "source": [
    "## 4. Conclusión"
   ]
  },
  {
   "cell_type": "markdown",
   "metadata": {},
   "source": [
    "## 5. Referencias - Bibliografía\n",
    "\n",
    "Hinton  \n",
    "Hinton  \n",
    "Hinton    \n",
    "Hinton    \n",
    "Hinton  \n",
    "Hinton    \n",
    "Hinton  \n",
    "Hinton    \n",
    "Hinton  \n",
    "Hinton  \n",
    "Hinton  \n",
    "Hinton  \n",
    "Hinton  \n",
    "Hinton  \n",
    "Hinton  \n",
    "Hinton  \n",
    "\n"
   ]
  },
  {
   "cell_type": "code",
   "execution_count": null,
   "metadata": {
    "collapsed": true
   },
   "outputs": [],
   "source": []
  }
 ],
 "metadata": {
  "kernelspec": {
   "display_name": "Python 3",
   "language": "python",
   "name": "python3"
  },
  "language_info": {
   "codemirror_mode": {
    "name": "ipython",
    "version": 3
   },
   "file_extension": ".py",
   "mimetype": "text/x-python",
   "name": "python",
   "nbconvert_exporter": "python",
   "pygments_lexer": "ipython3",
   "version": "3.6.8"
  }
 },
 "nbformat": 4,
 "nbformat_minor": 2
}
